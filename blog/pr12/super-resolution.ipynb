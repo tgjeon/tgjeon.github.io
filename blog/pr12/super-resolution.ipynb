{
 "cells": [
  {
   "cell_type": "markdown",
   "metadata": {},
   "source": [
    "# Paper Review on PR12 (Tensorflow-KR Paper Reading Group)\n",
    "\n",
    "## Paper\n",
    " * **Title**: Image Super-Resolution Using Deep Convolutional Networks (ECCV 2014)\n",
    " * **Link**: https://arxiv.org/abs/1501.00092\n",
    " * **Authors**: Chao Dong, Chen Change Loy, Kaiming He, Xiaoou Tang\n",
    " \n",
    "## Review video\n",
    "[![Review Video](http://i.imgur.com/m3uUrpT.jpg)](https://youtu.be/1jGr_OFyfa0 \"Click to play the review video\")\n",
    "\n",
    "* Presentation material on [Google Docs](https://docs.google.com/presentation/d/1ppGYAdlemrg7xQXkcUYMH8znR_p1_GYeONIJzEmEOhk/edit?usp=sharing)\n",
    "* Paper reviewed on 16th Apr, 2017"
   ]
  },
  {
   "cell_type": "code",
   "execution_count": null,
   "metadata": {
    "collapsed": true
   },
   "outputs": [],
   "source": []
  }
 ],
 "metadata": {
  "kernelspec": {
   "display_name": "Python 3",
   "language": "python",
   "name": "python3"
  },
  "language_info": {
   "codemirror_mode": {
    "name": "ipython",
    "version": 3
   },
   "file_extension": ".py",
   "mimetype": "text/x-python",
   "name": "python",
   "nbconvert_exporter": "python",
   "pygments_lexer": "ipython3",
   "version": "3.4.3"
  }
 },
 "nbformat": 4,
 "nbformat_minor": 2
}
