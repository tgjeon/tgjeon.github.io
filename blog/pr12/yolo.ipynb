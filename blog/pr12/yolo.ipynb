{
 "cells": [
  {
   "cell_type": "markdown",
   "metadata": {},
   "source": [
    "# Paper Review on PR12 (Tensorflow-KR Paper Reading Group)\n",
    "\n",
    "## Paper\n",
    " * **Title**: You Only Look Once: Unified, Real-Time Object Detection (CVPR 2016)\n",
    " * **Link**: https://arxiv.org/abs/1506.02640\n",
    " * **Authors**: Joseph Redmon, Santosh Divvala, Ross Girshick, Ali Farhadi\n",
    " \n",
    "## Review video\n",
    "[![Review Video](http://i.imgur.com/BRoZBH4.jpg)](https://youtu.be/eTDcoeqj1_w \"Click to play the review video\")\n",
    "\n",
    "* [Presentation material (Slideshare)](https://www.slideshare.net/TaegyunJeon1/pr12-you-only-look-once-yolo-unified-realtime-object-detection)\n",
    "* Paper reviewed on 18th June, 2017"
   ]
  }
 ],
 "metadata": {
  "kernelspec": {
   "display_name": "Python 3",
   "language": "python",
   "name": "python3"
  },
  "language_info": {
   "codemirror_mode": {
    "name": "ipython",
    "version": 3
   },
   "file_extension": ".py",
   "mimetype": "text/x-python",
   "name": "python",
   "nbconvert_exporter": "python",
   "pygments_lexer": "ipython3",
   "version": "3.4.3"
  }
 },
 "nbformat": 4,
 "nbformat_minor": 2
}
